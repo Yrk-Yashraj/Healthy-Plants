{
  "nbformat": 4,
  "nbformat_minor": 0,
  "metadata": {
    "colab": {
      "provenance": [],
      "gpuType": "T4"
    },
    "kernelspec": {
      "name": "python3",
      "display_name": "Python 3"
    },
    "language_info": {
      "name": "python"
    },
    "accelerator": "GPU"
  },
  "cells": [
    {
      "cell_type": "code",
      "execution_count": null,
      "metadata": {
        "id": "fORzx4hd_Rje"
      },
      "outputs": [],
      "source": [
        "!wget https://github.com/nandakishormpai2001/Plant_Disease_Detector/raw/main/model/dataset.zip"
      ]
    },
    {
      "cell_type": "code",
      "source": [
        "!unzip dataset.zip"
      ],
      "metadata": {
        "id": "LWpkATSv_g8Q"
      },
      "execution_count": null,
      "outputs": []
    },
    {
      "cell_type": "code",
      "source": [
        "!pip install -r requirements.txt"
      ],
      "metadata": {
        "id": "cp04arId_ouP"
      },
      "execution_count": null,
      "outputs": []
    },
    {
      "cell_type": "code",
      "source": [
        "from PIL import Image\n",
        "import torch\n",
        "import torchvision\n",
        "from torchvision.transforms import ToTensor\n",
        "import torchvision.transforms as transforms\n",
        "import numpy as np\n",
        "import matplotlib.pyplot as plt\n",
        "\n",
        "import torch.nn as nn\n",
        "import torch.optim as optim\n",
        "import torch.nn.functional as F\n",
        "import os\n",
        "import pickle"
      ],
      "metadata": {
        "id": "_eIS669Z_pOB"
      },
      "execution_count": null,
      "outputs": []
    },
    {
      "cell_type": "code",
      "source": [
        "class Dataset():\n",
        "    def __init__(self):\n",
        "        self.labels,self.images = self.load_data()\n",
        "\n",
        "    # To load images and labels for dataloader\n",
        "    def load_data(self):\n",
        "        labels={}\n",
        "        images = {}\n",
        "        count = 0\n",
        "        # setting resize dimensions\n",
        "        resize = transforms.Compose([transforms.Resize((256,256))])\n",
        "        main_dir = os.listdir(os.path.join(\"dataset\",\"train\"))\n",
        "        reference = {}\n",
        "        # iterating through categories\n",
        "        for i,dir in enumerate(main_dir):\n",
        "            reference[dir]=i\n",
        "            images_list = os.listdir(os.path.join(\"dataset\",\"train\",dir))\n",
        "            local_cnt = 0\n",
        "            # iterating through images in a category\n",
        "            for img in images_list:\n",
        "                # 500 images from each category\n",
        "                if local_cnt<500:\n",
        "                    labels[count] = i\n",
        "                    img_path = os.path.join(\"dataset\",\"train\",dir,img)\n",
        "                    image = Image.open(img_path)\n",
        "                    image = ToTensor()(image)\n",
        "                    images[count] = resize(image)\n",
        "                    count+=1\n",
        "                    local_cnt+=1\n",
        "                else:\n",
        "                    break\n",
        "\n",
        "        print(reference)\n",
        "        return labels,images\n",
        "\n",
        "    def __len__(self):\n",
        "        return len(self.labels)\n",
        "\n",
        "\n",
        "    # To return x,y values in each iteration over dataloader as batches.\n",
        "    def __getitem__(self, idx):\n",
        "        return (\n",
        "            self.images[idx],\n",
        "            self.labels[idx],\n",
        "        )"
      ],
      "metadata": {
        "id": "sQJFUKaQ_qVb"
      },
      "execution_count": 8,
      "outputs": []
    },
    {
      "cell_type": "code",
      "source": [
        "# Inherit from Dataset class\n",
        "class ValDataset(Dataset):\n",
        "\n",
        "    def load_data(self):\n",
        "          labels={}\n",
        "          images = {}\n",
        "          count = 0\n",
        "          resize = transforms.Compose([transforms.Resize((256,256))])\n",
        "          main_dir = os.listdir(os.path.join(\"dataset\",\"valid\"))\n",
        "          for i,dir in enumerate(main_dir):\n",
        "              print(i,dir)\n",
        "              images_list = os.listdir(os.path.join(\"dataset\",\"valid\",dir))\n",
        "              local_cnt = 0\n",
        "              for img in images_list:\n",
        "                  if(local_cnt<100):\n",
        "                      labels[count] = i\n",
        "                      img_path = os.path.join(\"dataset\",\"valid\",dir,img)\n",
        "                      image = Image.open(img_path)\n",
        "                      image = ToTensor()(image)\n",
        "                      images[count] = resize(image)\n",
        "                      count+=1\n",
        "                      local_cnt+=1\n",
        "                  else:\n",
        "                      break\n",
        "\n",
        "          return labels,images\n"
      ],
      "metadata": {
        "id": "9q06nm62_sw_"
      },
      "execution_count": 9,
      "outputs": []
    },
    {
      "cell_type": "code",
      "source": [
        "# Model Architecture\n",
        "class Network(nn.Module):\n",
        "    def __init__(self):\n",
        "        super(Network,self).__init__()\n",
        "\n",
        "        # CNNs for rgb images\n",
        "        self.conv1= nn.Conv2d(in_channels=3,out_channels=6,kernel_size=5)\n",
        "        self.conv2= nn.Conv2d(in_channels=6,out_channels=12,kernel_size=5)\n",
        "        self.conv3= nn.Conv2d(in_channels=12,out_channels=24,kernel_size=5)\n",
        "        self.conv4= nn.Conv2d(in_channels=24,out_channels=48,kernel_size=5)\n",
        "\n",
        "        # Connecting CNN outputs with Fully Connected layers\n",
        "        self.fc1 = nn.Linear(in_features=48*12*12,out_features=240)\n",
        "        self.fc2 = nn.Linear(in_features=240,out_features=120)\n",
        "        self.out = nn.Linear(in_features=120,out_features=17)\n",
        "\n",
        "\n",
        "    def forward(self,t):\n",
        "        t = t\n",
        "\n",
        "        t=self.conv1(t)\n",
        "        t=F.relu(t)\n",
        "        t=F.max_pool2d(t,kernel_size = 2, stride = 2)\n",
        "\n",
        "\n",
        "        t=self.conv2(t)\n",
        "        t=F.relu(t)\n",
        "        t=F.max_pool2d(t,kernel_size = 2, stride = 2)\n",
        "\n",
        "        t=self.conv3(t)\n",
        "        t=F.relu(t)\n",
        "        t=F.max_pool2d(t,kernel_size = 2, stride = 2)\n",
        "\n",
        "        t=self.conv4(t)\n",
        "        t=F.relu(t)\n",
        "        t=F.max_pool2d(t,kernel_size = 2, stride = 2)\n",
        "\n",
        "        t=t.reshape(-1,48*12*12)\n",
        "        t=self.fc1(t)\n",
        "        t=F.relu(t)\n",
        "\n",
        "\n",
        "        t=self.fc2(t)\n",
        "        t=F.relu(t)\n",
        "\n",
        "        t=self.out(t)\n",
        "\n",
        "\n",
        "        return t"
      ],
      "metadata": {
        "id": "xTw12usH_xmu"
      },
      "execution_count": 10,
      "outputs": []
    },
    {
      "cell_type": "code",
      "source": [
        "model = Network()\n",
        "dataset = Dataset()\n",
        "valdataset = ValDataset()"
      ],
      "metadata": {
        "colab": {
          "base_uri": "https://localhost:8080/"
        },
        "id": "787p-jbR_znt",
        "outputId": "7d50626f-3084-461b-d8dc-f53d40862b7f"
      },
      "execution_count": 11,
      "outputs": [
        {
          "output_type": "stream",
          "name": "stdout",
          "text": [
            "{'Cherry___Powdery_mildew': 0, 'Tomato___Late_blight': 1, 'Tomato___Bacterial_spot': 2, 'Tomato___Leaf_Mold': 3, 'Tomato___Septoria_leaf_spot': 4, 'Pepper___healthy': 5, 'Potato___healthy': 6, 'Pepper___Bacterial_spot': 7, 'Tomato___Tomato_Yellow_Leaf_Curl_Virus': 8, 'Potato___Early_blight': 9, 'Tomato___Tomato_mosaic_virus': 10, 'Tomato___Spider_mites Two-spotted_spider_mite': 11, 'Potato___Late_blight': 12, 'Tomato___Early_blight': 13, 'Tomato___healthy': 14, 'Tomato___Target_Spot': 15, 'Cherry___healthy': 16}\n",
            "0 Cherry___Powdery_mildew\n",
            "1 Tomato___Late_blight\n",
            "2 Tomato___Bacterial_spot\n",
            "3 Tomato___Leaf_Mold\n",
            "4 Tomato___Septoria_leaf_spot\n",
            "5 Pepper___healthy\n",
            "6 Potato___healthy\n",
            "7 Pepper___Bacterial_spot\n",
            "8 Tomato___Tomato_Yellow_Leaf_Curl_Virus\n",
            "9 Potato___Early_blight\n",
            "10 Tomato___Tomato_mosaic_virus\n",
            "11 Tomato___Spider_mites Two-spotted_spider_mite\n",
            "12 Potato___Late_blight\n",
            "13 Tomato___Early_blight\n",
            "14 Tomato___healthy\n",
            "15 Tomato___Target_Spot\n",
            "16 Cherry___healthy\n"
          ]
        }
      ]
    },
    {
      "cell_type": "code",
      "source": [
        "# Function to return number of correct predictions in a batch\n",
        "def get_num_correct(preds,labels):\n",
        "    return preds.argmax(dim=1).eq(labels).sum().item()"
      ],
      "metadata": {
        "id": "1UBSwXid_7d1"
      },
      "execution_count": 12,
      "outputs": []
    },
    {
      "cell_type": "code",
      "source": [
        "def train(dataset,valdataset, model):\n",
        "    model.train()\n",
        "\n",
        "    # dataloader in pytorch to load validation and train dataset\n",
        "    dataloader = torch.utils.data.DataLoader(dataset, batch_size=64,shuffle=True)\n",
        "    valdataloader = torch.utils.data.DataLoader(valdataset, batch_size=32,shuffle=True)\n",
        "\n",
        "    # Defining the loss and optimizer\n",
        "    criterion = nn.CrossEntropyLoss()\n",
        "    optimizer = optim.Adam(model.parameters(), lr=0.001)\n",
        "    num_of_epochs = 20\n",
        "    epochs = []\n",
        "    losses = []\n",
        "    for epoch in range(num_of_epochs):\n",
        "        cnt = 0\n",
        "        tot_loss = 0\n",
        "        tot_correct = 0\n",
        "        for batch, (x, y) in enumerate(dataloader):\n",
        "            # Sets the gradients of all optimized tensors to zero\n",
        "            optimizer.zero_grad()\n",
        "            y_pred = model(x)\n",
        "            # Compute loss (here CrossEntropyLoss)\n",
        "            loss = F.cross_entropy(y_pred,y)\n",
        "\n",
        "            loss.backward()\n",
        "            optimizer.step()\n",
        "\n",
        "        for batch, (x, y) in enumerate(valdataloader):\n",
        "            # Sets the gradients of all optimized tensors to zero\n",
        "            optimizer.zero_grad()\n",
        "            with torch.no_grad():\n",
        "                y_pred = model(x)\n",
        "                # Compute loss (here CrossEntropyLoss)\n",
        "                loss = F.cross_entropy(y_pred,y)\n",
        "\n",
        "            tot_loss+=loss.item()\n",
        "            tot_correct +=get_num_correct(y_pred,y)\n",
        "        epochs.append(epoch)\n",
        "        losses.append(tot_loss)\n",
        "        print(\"Epoch\",epoch,\"total_correct\",tot_correct,\"loss:\",tot_loss)\n",
        "        torch.save(model.state_dict(), \"model002_ep\"+str(epoch+1)+\".pth\")\n",
        "\n",
        "    # Plot a Validation Loss vs Epochs graph\n",
        "    plt.plot(epochs, losses, color='green', linewidth = 3,\n",
        "         marker='o', markerfacecolor='blue', markersize=8)\n",
        "    plt.xlabel('epochs ---->',color='m',fontsize='xx-large' )\n",
        "    plt.ylabel('loss ------>',color='m',fontsize='xx-large')\n",
        "    axes = plt.gca()        # 'gca' - get current axes\n",
        "    axes.set_facecolor('c') #'c' - cyan\n",
        "    axes.tick_params(axis='y', which='both', colors='tomato')\n",
        "    axes.tick_params(axis='x', which='both', colors='#20ff14')\n",
        "    plt.title(\"Val Loss vs Epoch\",color='m',fontsize='xx-large')"
      ],
      "metadata": {
        "id": "tqPhb7VE__yK"
      },
      "execution_count": 13,
      "outputs": []
    },
    {
      "cell_type": "code",
      "source": [
        "train(dataset,valdataset, model)"
      ],
      "metadata": {
        "colab": {
          "base_uri": "https://localhost:8080/",
          "height": 834
        },
        "id": "6bgzo454AAjv",
        "outputId": "be2469d5-eb08-430d-830b-9cdc68347f7b"
      },
      "execution_count": 14,
      "outputs": [
        {
          "output_type": "stream",
          "name": "stdout",
          "text": [
            "Epoch 0 total_correct 12 loss: 16.96655035018921\n",
            "Epoch 1 total_correct 26 loss: 15.776074171066284\n",
            "Epoch 2 total_correct 36 loss: 14.540517568588257\n",
            "Epoch 3 total_correct 36 loss: 14.060194492340088\n",
            "Epoch 4 total_correct 46 loss: 12.738480925559998\n",
            "Epoch 5 total_correct 53 loss: 12.540425300598145\n",
            "Epoch 6 total_correct 63 loss: 12.132918238639832\n",
            "Epoch 7 total_correct 60 loss: 12.537012815475464\n",
            "Epoch 8 total_correct 48 loss: 13.213911294937134\n",
            "Epoch 9 total_correct 70 loss: 12.730974912643433\n",
            "Epoch 10 total_correct 57 loss: 12.05997622013092\n",
            "Epoch 11 total_correct 62 loss: 11.73966360092163\n",
            "Epoch 12 total_correct 59 loss: 12.709270477294922\n",
            "Epoch 13 total_correct 71 loss: 10.257508516311646\n",
            "Epoch 14 total_correct 64 loss: 12.420533776283264\n",
            "Epoch 15 total_correct 66 loss: 11.926629424095154\n",
            "Epoch 16 total_correct 68 loss: 12.02346920967102\n",
            "Epoch 17 total_correct 74 loss: 10.972846388816833\n",
            "Epoch 18 total_correct 76 loss: 11.037907719612122\n",
            "Epoch 19 total_correct 73 loss: 13.293368339538574\n"
          ]
        },
        {
          "output_type": "display_data",
          "data": {
            "text/plain": [
              "<Figure size 640x480 with 1 Axes>"
            ],
            "image/png": "[encoded data removed]"
          },
          "metadata": {}
        }
      ]
    },
    {
      "cell_type": "code",
      "source": [
        "# Saving labels to label value as a json\n",
        "main_dir = os.listdir(os.path.join(\"dataset\",\"train\"))\n",
        "reference = {}\n",
        "for i,dir in enumerate(main_dir):\n",
        "    reference[dir]=i\n",
        "with open('labels.json', 'wb') as iw:\n",
        "    pickle.dump(reference, iw)"
      ],
      "metadata": {
        "id": "Q4VSSzRvACix"
      },
      "execution_count": 16,
      "outputs": []
    },
    {
      "cell_type": "code",
      "source": [
        "#Save the trained model\n",
        "torch.save(model.state_dict(), \"model.pth\")"
      ],
      "metadata": {
        "id": "J6PEoBHWAF1z"
      },
      "execution_count": 17,
      "outputs": []
    },
    {
      "cell_type": "code",
      "source": [
        "# prediction function to test\n",
        "def predict(img_path):\n",
        "    image = Image.open(img_path)\n",
        "    image = ToTensor()(image)\n",
        "    resize = transforms.Compose([transforms.Resize((256,256))])\n",
        "    y_result = model(resize(image).unsqueeze(0))\n",
        "    result_idx = y_result.argmax(dim=1)\n",
        "    for key,value in reference.items():\n",
        "        if(value==result_idx):\n",
        "            print(key)\n",
        "            break"
      ],
      "metadata": {
        "id": "It7oqE55AIEk"
      },
      "execution_count": 18,
      "outputs": []
    },
    {
      "cell_type": "code",
      "source": [
        "predict(\"/content/dataset/test/PotatoHealthy1.JPG\")"
      ],
      "metadata": {
        "colab": {
          "base_uri": "https://localhost:8080/"
        },
        "id": "6m_bxqKxAKtt",
        "outputId": "9506f588-6dbd-4bee-ffb2-87d7cf75c4c2"
      },
      "execution_count": 20,
      "outputs": [
        {
          "output_type": "stream",
          "name": "stdout",
          "text": [
            "Potato___healthy\n"
          ]
        }
      ]
    },
    {
      "cell_type": "code",
      "source": [
        "predict(\"/content/dataset/test/TomatoEarlyBlight2.JPG\")"
      ],
      "metadata": {
        "colab": {
          "base_uri": "https://localhost:8080/"
        },
        "id": "1PmWKyL7E4Y8",
        "outputId": "557f5a84-0c87-4fd3-a8ee-9deb47efd9c5"
      },
      "execution_count": 21,
      "outputs": [
        {
          "output_type": "stream",
          "name": "stdout",
          "text": [
            "Tomato___Early_blight\n"
          ]
        }
      ]
    }
  ]
}